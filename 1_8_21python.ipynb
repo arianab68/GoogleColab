{
  "nbformat": 4,
  "nbformat_minor": 0,
  "metadata": {
    "colab": {
      "name": "1/8/21python.ipynb",
      "provenance": [],
      "authorship_tag": "ABX9TyNK8fdNXSqe9FIxI8qF3+JA",
      "include_colab_link": true
    },
    "kernelspec": {
      "name": "python3",
      "display_name": "Python 3"
    }
  },
  "cells": [
    {
      "cell_type": "markdown",
      "metadata": {
        "id": "view-in-github",
        "colab_type": "text"
      },
      "source": [
        "<a href=\"https://colab.research.google.com/github/arianab68/GoogleColab/blob/master/1_8_21python.ipynb\" target=\"_parent\"><img src=\"https://colab.research.google.com/assets/colab-badge.svg\" alt=\"Open In Colab\"/></a>"
      ]
    },
    {
      "cell_type": "markdown",
      "metadata": {
        "id": "bnpnqEhmWvhw"
      },
      "source": [
        "For Loops\r\n"
      ]
    },
    {
      "cell_type": "code",
      "metadata": {
        "colab": {
          "base_uri": "https://localhost:8080/"
        },
        "id": "rWvhT9DYWmly",
        "outputId": "0c41494f-bcda-46cf-b78c-e21fbbac986f"
      },
      "source": [
        "for x in 'cuny':\r\n",
        "  print(x)"
      ],
      "execution_count": 1,
      "outputs": [
        {
          "output_type": "stream",
          "text": [
            "c\n",
            "u\n",
            "n\n",
            "y\n"
          ],
          "name": "stdout"
        }
      ]
    },
    {
      "cell_type": "code",
      "metadata": {
        "colab": {
          "base_uri": "https://localhost:8080/"
        },
        "id": "ynFWHrIvWtdH",
        "outputId": "b27a4e08-a740-462e-fe8e-9c2f5c41c0c4"
      },
      "source": [
        "familymembers = ['mom', 'dad', 'brother', 'sister', 'grandma', 'grandpa', 'aunt', 'uncle', 'dog', 'cat', 'cousin', 'stepbrother', 'stepsister', 'stepmom', 'stepdad', 'greatgrandmother', 'greatgrandfather', 'godfather', 'nephew', 'niece' ]\r\n",
        "for members in familymembers:\r\n",
        "  print(\" Hi my name is \" + members + \".\")\r\n"
      ],
      "execution_count": 29,
      "outputs": [
        {
          "output_type": "stream",
          "text": [
            " Hi my name is mom.\n",
            " Hi my name is dad.\n",
            " Hi my name is brother.\n",
            " Hi my name is sister.\n",
            " Hi my name is grandma.\n",
            " Hi my name is grandpa.\n",
            " Hi my name is aunt.\n",
            " Hi my name is uncle.\n",
            " Hi my name is dog.\n",
            " Hi my name is cat.\n",
            " Hi my name is cousin.\n",
            " Hi my name is stepbrother.\n",
            " Hi my name is stepsister.\n",
            " Hi my name is stepmom.\n",
            " Hi my name is stepdad.\n",
            " Hi my name is greatgrandmother.\n",
            " Hi my name is greatgrandfather.\n",
            " Hi my name is godfather.\n",
            " Hi my name is nephew.\n",
            " Hi my name is niece.\n"
          ],
          "name": "stdout"
        }
      ]
    },
    {
      "cell_type": "code",
      "metadata": {
        "id": "B-bhfMMKwoqS"
      },
      "source": [
        ""
      ],
      "execution_count": null,
      "outputs": []
    },
    {
      "cell_type": "code",
      "metadata": {
        "colab": {
          "base_uri": "https://localhost:8080/"
        },
        "id": "5sEEuvQ5wpyh",
        "outputId": "2055ed52-40b6-4d2e-e50d-a7d95439b130"
      },
      "source": [
        "familymembers = ['mom', 'dad', 'brother', 'sister', 'grandma', 'grandpa', 'aunt', 'uncle', 'dog', 'cat', 'cousin', 'stepbrother', 'stepsister', 'stepmom', 'stepdad', 'greatgrandmother', 'greatgrandfather', 'godfather', 'nephew', 'niece' ]\r\n",
        "print(familymembers[0:3])\r\n",
        "print(familymembers[2:4])\r\n",
        "print(familymembers[:3])\r\n",
        "print(familymembers[2:])\r\n",
        "print(familymembers[-2:])\r\n",
        "print(familymembers[5:8])\r\n",
        "print(familymembers[-5:])\r\n",
        "print(familymembers[:4])\r\n",
        "print(familymembers[0:7])\r\n",
        "print(familymembers[:10])\r\n"
      ],
      "execution_count": 31,
      "outputs": [
        {
          "output_type": "stream",
          "text": [
            "['mom', 'dad', 'brother']\n",
            "['brother', 'sister']\n",
            "['mom', 'dad', 'brother']\n",
            "['brother', 'sister', 'grandma', 'grandpa', 'aunt', 'uncle', 'dog', 'cat', 'cousin', 'stepbrother', 'stepsister', 'stepmom', 'stepdad', 'greatgrandmother', 'greatgrandfather', 'godfather', 'nephew', 'niece']\n",
            "['nephew', 'niece']\n",
            "['grandpa', 'aunt', 'uncle']\n",
            "['greatgrandmother', 'greatgrandfather', 'godfather', 'nephew', 'niece']\n",
            "['mom', 'dad', 'brother', 'sister']\n",
            "['mom', 'dad', 'brother', 'sister', 'grandma', 'grandpa', 'aunt']\n",
            "['mom', 'dad', 'brother', 'sister', 'grandma', 'grandpa', 'aunt', 'uncle', 'dog', 'cat']\n"
          ],
          "name": "stdout"
        }
      ]
    },
    {
      "cell_type": "markdown",
      "metadata": {
        "id": "tiRhb2ALcewr"
      },
      "source": [
        "Loops with Numbers"
      ]
    },
    {
      "cell_type": "code",
      "metadata": {
        "colab": {
          "base_uri": "https://localhost:8080/"
        },
        "id": "yDxwlNQdYcs5",
        "outputId": "7aca3f1c-cf3c-4697-a341-626c70cd943f"
      },
      "source": [
        "for num in range (1,10):\r\n",
        "  print(num)"
      ],
      "execution_count": 5,
      "outputs": [
        {
          "output_type": "stream",
          "text": [
            "1\n",
            "2\n",
            "3\n",
            "4\n",
            "5\n",
            "6\n",
            "7\n",
            "8\n",
            "9\n"
          ],
          "name": "stdout"
        }
      ]
    },
    {
      "cell_type": "markdown",
      "metadata": {
        "id": "G7nyoKYmepOg"
      },
      "source": [
        "Print out the odd numbers"
      ]
    },
    {
      "cell_type": "markdown",
      "metadata": {
        "id": "WqgSwueKe6jr"
      },
      "source": [
        "Print out odd number with user input"
      ]
    },
    {
      "cell_type": "code",
      "metadata": {
        "colab": {
          "base_uri": "https://localhost:8080/"
        },
        "id": "mnkrLp94cmvS",
        "outputId": "306c57e0-a92a-4fe9-8ebd-2a257b5bd3ca"
      },
      "source": [
        "\r\n",
        "num = int(input(\"Enter a number: \"))\r\n",
        "if num%2 != 0: # if the number is not divisible by 2 then it is not = to 0 meaning it is odd.\r\n",
        "    print(\"This is an odd number!\")\r\n",
        "else:\r\n",
        "    print(\"This is an even number!\")"
      ],
      "execution_count": 14,
      "outputs": [
        {
          "output_type": "stream",
          "text": [
            "Enter a number: 2\n",
            "This is an even number!\n"
          ],
          "name": "stdout"
        }
      ]
    },
    {
      "cell_type": "code",
      "metadata": {
        "colab": {
          "base_uri": "https://localhost:8080/"
        },
        "id": "Iy196l7wegPr",
        "outputId": "9a7f352a-ee4c-4e28-de07-fa5b45aa00db"
      },
      "source": [
        "number = int(input(\"Enter a number: \"))\r\n",
        "if number%2 == 0:\r\n",
        "  print(f\"{number} in even\") #f string\r\n",
        "else:\r\n",
        "  print(\"{0} is Odd\".format(number))"
      ],
      "execution_count": 16,
      "outputs": [
        {
          "output_type": "stream",
          "text": [
            "Enter a number: 44\n",
            "44 in even\n"
          ],
          "name": "stdout"
        }
      ]
    },
    {
      "cell_type": "markdown",
      "metadata": {
        "id": "UfLqi-rohggP"
      },
      "source": [
        "Write a script to print out a list of prime numbers"
      ]
    },
    {
      "cell_type": "code",
      "metadata": {
        "colab": {
          "base_uri": "https://localhost:8080/"
        },
        "id": "JWTg_ZNYmQwX",
        "outputId": "97f7660a-23d1-4ec6-8f64-6c5beb4c2141"
      },
      "source": [
        "n = int(input(\"Enter a number greater than 1. \"))\r\n",
        "Match = True #a way to check every number\r\n",
        "\r\n",
        "for num in range (2,n):\r\n",
        "  n%num\r\n",
        "if n%num == 0:\r\n",
        "      Match =  False\r\n",
        "\r\n",
        "if Match:\r\n",
        "      print(\"num is prime.\")\r\n",
        "else:\r\n",
        "      print(\"num is not prime. \")"
      ],
      "execution_count": 25,
      "outputs": [
        {
          "output_type": "stream",
          "text": [
            "Enter a number greater than 1. 2\n",
            "num is not prime. \n"
          ],
          "name": "stdout"
        }
      ]
    },
    {
      "cell_type": "code",
      "metadata": {
        "colab": {
          "base_uri": "https://localhost:8080/"
        },
        "id": "AS0L88Y2kPVw",
        "outputId": "b0863073-1684-4ec2-a734-e32d2ce08203"
      },
      "source": [
        "[2 * 3 * 4 + 1] = prime #format of a prime number, a prime number is a number that can only be divided by itself and 1"
      ],
      "execution_count": 17,
      "outputs": [
        {
          "output_type": "execute_result",
          "data": {
            "text/plain": [
              "[24]"
            ]
          },
          "metadata": {
            "tags": []
          },
          "execution_count": 17
        }
      ]
    },
    {
      "cell_type": "code",
      "metadata": {
        "colab": {
          "base_uri": "https://localhost:8080/"
        },
        "id": "GvIFu4cZkT2K",
        "outputId": "f6009c88-c07f-4458-d721-1b89c1678e58"
      },
      "source": [
        "for num in range (2,101): # for the numbers within the range \r\n",
        "  # num % i produces the remainder when num is divided by i.\r\n",
        "  # The all method returns True when all elements are true.\r\n",
        "  if all (num%i != 0 for i in range (2,num)): #if num % i is not equal to 0, then for i in the range (2,num) print num\r\n",
        "    print(num) #prints the num"
      ],
      "execution_count": 27,
      "outputs": [
        {
          "output_type": "stream",
          "text": [
            "2\n",
            "3\n",
            "5\n",
            "7\n",
            "11\n",
            "13\n",
            "17\n",
            "19\n",
            "23\n",
            "29\n",
            "31\n",
            "37\n",
            "41\n",
            "43\n",
            "47\n",
            "53\n",
            "59\n",
            "61\n",
            "67\n",
            "71\n",
            "73\n",
            "79\n",
            "83\n",
            "89\n",
            "97\n"
          ],
          "name": "stdout"
        }
      ]
    },
    {
      "cell_type": "code",
      "metadata": {
        "id": "TVblwUuNsNAi"
      },
      "source": [
        ""
      ],
      "execution_count": null,
      "outputs": []
    }
  ]
}