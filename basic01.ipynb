{
  "nbformat": 4,
  "nbformat_minor": 0,
  "metadata": {
    "colab": {
      "name": "basic01.ipynb",
      "provenance": [],
      "authorship_tag": "ABX9TyMDoesoZeFoL+3OX/yKvqVO",
      "include_colab_link": true
    },
    "kernelspec": {
      "name": "python3",
      "display_name": "Python 3"
    }
  },
  "cells": [
    {
      "cell_type": "markdown",
      "metadata": {
        "id": "view-in-github",
        "colab_type": "text"
      },
      "source": [
        "<a href=\"https://colab.research.google.com/github/arianab68/GoogleColab/blob/master/basic01.ipynb\" target=\"_parent\"><img src=\"https://colab.research.google.com/assets/colab-badge.svg\" alt=\"Open In Colab\"/></a>"
      ]
    },
    {
      "cell_type": "markdown",
      "metadata": {
        "id": "1WZjw_lHYWEL"
      },
      "source": [
        "Import this for pi"
      ]
    },
    {
      "cell_type": "code",
      "metadata": {
        "id": "uZeZDJd1YT9K"
      },
      "source": [
        "import math"
      ],
      "execution_count": null,
      "outputs": []
    },
    {
      "cell_type": "markdown",
      "metadata": {
        "id": "ihDYfJIXMLYV"
      },
      "source": [
        "Create five variables"
      ]
    },
    {
      "cell_type": "code",
      "metadata": {
        "id": "l781cX4eMtyy"
      },
      "source": [
        " first_name = 'Ariana'\r\n",
        " firstName = 'Ariana'\r\n",
        " FirstName = 'Ariana'\r\n",
        " FIRSTNAME = 'Ariana'\r\n"
      ],
      "execution_count": null,
      "outputs": []
    },
    {
      "cell_type": "code",
      "metadata": {
        "colab": {
          "base_uri": "https://localhost:8080/"
        },
        "id": "KLPbU5dDM_K6",
        "outputId": "079b1188-1283-43b3-ff34-83b98f7cb352"
      },
      "source": [
        "print(first_name)\r\n",
        "print(firstName)\r\n",
        "print(FirstName)\r\n",
        "print(FIRSTNAME)\r\n",
        "\r\n"
      ],
      "execution_count": null,
      "outputs": [
        {
          "output_type": "stream",
          "text": [
            "Ariana\n",
            "Ariana\n",
            "Ariana\n",
            "Ariana\n"
          ],
          "name": "stdout"
        }
      ]
    },
    {
      "cell_type": "markdown",
      "metadata": {
        "id": "Q9oOlFqyMXyS"
      },
      "source": [
        "Create 10 Last Name Variables"
      ]
    },
    {
      "cell_type": "code",
      "metadata": {
        "id": "scMxZnqWMbd9"
      },
      "source": [
        "last2_name = 'Bhigroog'\r\n",
        "lastName = 'B'\r\n",
        "LastName = 'h'\r\n",
        "LASTNAME = 'i'\r\n",
        "_lastname = 'g'\r\n",
        "lastname_ = 'r'\r\n",
        "Lastname1 = 'o'\r\n",
        "last_name = 'o'\r\n",
        "last1_name = 'g'\r\n",
        "Last_name = 'A'"
      ],
      "execution_count": null,
      "outputs": []
    },
    {
      "cell_type": "code",
      "metadata": {
        "colab": {
          "base_uri": "https://localhost:8080/"
        },
        "id": "O_9zYqg6PAvj",
        "outputId": "d79a6b6b-d432-4a97-bb6d-a460905c303e"
      },
      "source": [
        "print(last2_name)\r\n",
        "print(lastName)\r\n",
        "print(LastName)\r\n",
        "print(LASTNAME)\r\n",
        "print(_lastname)\r\n",
        "print(lastname_)\r\n",
        "print(Lastname1)\r\n",
        "print(last_name)\r\n",
        "print(last1_name)\r\n",
        "print(Last_name)"
      ],
      "execution_count": null,
      "outputs": [
        {
          "output_type": "stream",
          "text": [
            "Bhigroog\n",
            "B\n",
            "h\n",
            "i\n",
            "g\n",
            "r\n",
            "o\n",
            "o\n",
            "g\n",
            "A\n"
          ],
          "name": "stdout"
        }
      ]
    },
    {
      "cell_type": "markdown",
      "metadata": {
        "id": "3s-1YB2aPyR9"
      },
      "source": [
        "Numbers"
      ]
    },
    {
      "cell_type": "code",
      "metadata": {
        "id": "AWRbebB-Pzod"
      },
      "source": [
        "num = 10"
      ],
      "execution_count": null,
      "outputs": []
    },
    {
      "cell_type": "code",
      "metadata": {
        "colab": {
          "base_uri": "https://localhost:8080/"
        },
        "id": "h3Z0KxsMP3FZ",
        "outputId": "0dacfd04-c90a-4649-cbcc-11d3619324df"
      },
      "source": [
        "print(first_name)"
      ],
      "execution_count": null,
      "outputs": [
        {
          "output_type": "stream",
          "text": [
            "Ariana\n"
          ],
          "name": "stdout"
        }
      ]
    },
    {
      "cell_type": "markdown",
      "metadata": {
        "id": "SvJ85MniQdV_"
      },
      "source": [
        "Change first_name variable value"
      ]
    },
    {
      "cell_type": "code",
      "metadata": {
        "id": "DL19eQqMP7j5"
      },
      "source": [
        "first_name = 90"
      ],
      "execution_count": null,
      "outputs": []
    },
    {
      "cell_type": "code",
      "metadata": {
        "colab": {
          "base_uri": "https://localhost:8080/"
        },
        "id": "OjWMfmUmP-Sz",
        "outputId": "90a2fb3e-5885-490d-bd45-d7d07ea60ec2"
      },
      "source": [
        "print(first_name)"
      ],
      "execution_count": null,
      "outputs": [
        {
          "output_type": "stream",
          "text": [
            "90\n"
          ],
          "name": "stdout"
        }
      ]
    },
    {
      "cell_type": "markdown",
      "metadata": {
        "id": "Nl3hl18vX5Pf"
      },
      "source": [
        "Data Types"
      ]
    },
    {
      "cell_type": "code",
      "metadata": {
        "id": "XRJb-ONkQD-y"
      },
      "source": [
        "num5 = 12.900984793475"
      ],
      "execution_count": null,
      "outputs": []
    },
    {
      "cell_type": "code",
      "metadata": {
        "colab": {
          "base_uri": "https://localhost:8080/"
        },
        "id": "jKHDjmn3YH4C",
        "outputId": "34719558-b63d-42d5-97ca-492d87da3b07"
      },
      "source": [
        "num"
      ],
      "execution_count": null,
      "outputs": [
        {
          "output_type": "execute_result",
          "data": {
            "text/plain": [
              "12.900984793475"
            ]
          },
          "metadata": {
            "tags": []
          },
          "execution_count": 18
        }
      ]
    },
    {
      "cell_type": "markdown",
      "metadata": {
        "id": "u_xeR5rjYikn"
      },
      "source": [
        "You have to call on the import math to use pi"
      ]
    },
    {
      "cell_type": "code",
      "metadata": {
        "colab": {
          "base_uri": "https://localhost:8080/"
        },
        "id": "7PRhpIFiYPdY",
        "outputId": "241eb147-1eec-4966-a59f-25480c276920"
      },
      "source": [
        "math.pi"
      ],
      "execution_count": null,
      "outputs": [
        {
          "output_type": "execute_result",
          "data": {
            "text/plain": [
              "3.141592653589793"
            ]
          },
          "metadata": {
            "tags": []
          },
          "execution_count": 20
        }
      ]
    },
    {
      "cell_type": "code",
      "metadata": {
        "id": "3Mgc5uC3Yg4t"
      },
      "source": [
        "num = 7\r\n",
        "num2 = 5"
      ],
      "execution_count": null,
      "outputs": []
    },
    {
      "cell_type": "markdown",
      "metadata": {
        "id": "nWWJD_MwY2X1"
      },
      "source": [
        "Boolean is the game variable\r\n"
      ]
    },
    {
      "cell_type": "code",
      "metadata": {
        "id": "F3OS4phLYz1q"
      },
      "source": [
        "game = True"
      ],
      "execution_count": null,
      "outputs": []
    },
    {
      "cell_type": "markdown",
      "metadata": {
        "id": "5fVo6hJpZSB5"
      },
      "source": [
        "Find out the type of the variable\r\n"
      ]
    },
    {
      "cell_type": "code",
      "metadata": {
        "colab": {
          "base_uri": "https://localhost:8080/"
        },
        "id": "c8hFEkv-Y7dr",
        "outputId": "a1674d95-d8be-4fef-c0d5-8f67b01caabb"
      },
      "source": [
        "type(num5)"
      ],
      "execution_count": null,
      "outputs": [
        {
          "output_type": "execute_result",
          "data": {
            "text/plain": [
              "float"
            ]
          },
          "metadata": {
            "tags": []
          },
          "execution_count": 24
        }
      ]
    },
    {
      "cell_type": "code",
      "metadata": {
        "colab": {
          "base_uri": "https://localhost:8080/"
        },
        "id": "jJTg-ecrZLEF",
        "outputId": "291e55cf-b9c2-47ac-b6fb-1fd82995da6e"
      },
      "source": [
        "type(game)"
      ],
      "execution_count": null,
      "outputs": [
        {
          "output_type": "execute_result",
          "data": {
            "text/plain": [
              "bool"
            ]
          },
          "metadata": {
            "tags": []
          },
          "execution_count": 25
        }
      ]
    },
    {
      "cell_type": "code",
      "metadata": {
        "id": "gMrwpYACZN6y"
      },
      "source": [
        "list = ['name', 'time', 'carrots']"
      ],
      "execution_count": null,
      "outputs": []
    },
    {
      "cell_type": "markdown",
      "metadata": {
        "id": "3VfPBctXZd21"
      },
      "source": [
        "Print List to give values"
      ]
    },
    {
      "cell_type": "code",
      "metadata": {
        "colab": {
          "base_uri": "https://localhost:8080/"
        },
        "id": "3fRl8VCYZa8A",
        "outputId": "6086e64e-ac09-4acb-ff01-13f46d46d177"
      },
      "source": [
        "list"
      ],
      "execution_count": null,
      "outputs": [
        {
          "output_type": "execute_result",
          "data": {
            "text/plain": [
              "['name', 'time', 'carrots']"
            ]
          },
          "metadata": {
            "tags": []
          },
          "execution_count": 27
        }
      ]
    },
    {
      "cell_type": "markdown",
      "metadata": {
        "id": "IsKFrHAUZkze"
      },
      "source": [
        "Create 10 lists, 10 bool and 10 floats"
      ]
    },
    {
      "cell_type": "code",
      "metadata": {
        "id": "8sEdREAnZpRV"
      },
      "source": [
        "list1 = ['A','B','C']\n",
        "list2 = [1,2,3]\n",
        "list3 = ['ariana','bhigroog']\n",
        "list4 = ['a',1,2]\n",
        "list5 = [ 4,5,6]\n",
        "list6 = []\n",
        "list7 = ['hi','hello','goodbye']\n",
        "list8 = [6,7,8]\n",
        "list9 = [1,'ariana','game']\n",
        "list10 = []"
      ],
      "execution_count": null,
      "outputs": []
    },
    {
      "cell_type": "code",
      "metadata": {
        "id": "P4p_da-5a4wI",
        "colab": {
          "base_uri": "https://localhost:8080/"
        },
        "outputId": "8840f8ac-509b-4c5a-8f0f-01b8a82dbc40"
      },
      "source": [
        "list1 \r\n"
      ],
      "execution_count": null,
      "outputs": [
        {
          "output_type": "execute_result",
          "data": {
            "text/plain": [
              "['A', 'B', 'C']"
            ]
          },
          "metadata": {
            "tags": []
          },
          "execution_count": 48
        }
      ]
    },
    {
      "cell_type": "code",
      "metadata": {
        "id": "ZnI7OJ8WbGhW"
      },
      "source": [
        "\r\n",
        "happy = True\r\n",
        "sad = False"
      ],
      "execution_count": null,
      "outputs": []
    },
    {
      "cell_type": "code",
      "metadata": {
        "colab": {
          "base_uri": "https://localhost:8080/"
        },
        "id": "s3aUKka-baLd",
        "outputId": "845ef02d-e344-4d25-f067-beaece3c4b43"
      },
      "source": [
        "happy"
      ],
      "execution_count": null,
      "outputs": [
        {
          "output_type": "execute_result",
          "data": {
            "text/plain": [
              "True"
            ]
          },
          "metadata": {
            "tags": []
          },
          "execution_count": 39
        }
      ]
    },
    {
      "cell_type": "code",
      "metadata": {
        "colab": {
          "base_uri": "https://localhost:8080/"
        },
        "id": "NO1yTvHYbdTM",
        "outputId": "dcb2c2d9-2611-466b-a773-a636fec49dee"
      },
      "source": [
        "sad"
      ],
      "execution_count": null,
      "outputs": [
        {
          "output_type": "execute_result",
          "data": {
            "text/plain": [
              "False"
            ]
          },
          "metadata": {
            "tags": []
          },
          "execution_count": 40
        }
      ]
    },
    {
      "cell_type": "code",
      "metadata": {
        "id": "u-kr3oebcC_I",
        "colab": {
          "base_uri": "https://localhost:8080/"
        },
        "outputId": "59ae0dfe-5da6-4e8b-88b8-c69f7a9744ac"
      },
      "source": [
        "type(sad)"
      ],
      "execution_count": null,
      "outputs": [
        {
          "output_type": "execute_result",
          "data": {
            "text/plain": [
              "bool"
            ]
          },
          "metadata": {
            "tags": []
          },
          "execution_count": 49
        }
      ]
    },
    {
      "cell_type": "code",
      "metadata": {
        "id": "27hZCJ6LbkgI"
      },
      "source": [
        "num1 = 13.5\r\n",
        "num3 = 13.675757\r\n",
        "num4= 54.77686\r\n",
        "num6=23.35346"
      ],
      "execution_count": null,
      "outputs": []
    },
    {
      "cell_type": "code",
      "metadata": {
        "id": "cti19_ZhcHEt",
        "colab": {
          "base_uri": "https://localhost:8080/"
        },
        "outputId": "dfd65e69-75dc-4116-9a2f-6a070492e6ea"
      },
      "source": [
        "type(num4)"
      ],
      "execution_count": null,
      "outputs": [
        {
          "output_type": "execute_result",
          "data": {
            "text/plain": [
              "float"
            ]
          },
          "metadata": {
            "tags": []
          },
          "execution_count": 50
        }
      ]
    },
    {
      "cell_type": "markdown",
      "metadata": {
        "id": "83kVRvRCiVqz"
      },
      "source": [
        "Create a Dictionary"
      ]
    },
    {
      "cell_type": "code",
      "metadata": {
        "id": "1xn5AB6VijQi"
      },
      "source": [
        "myDict = {'key': 'value', 'key2': 'value2', 'key3': 'value3'}"
      ],
      "execution_count": 52,
      "outputs": []
    },
    {
      "cell_type": "code",
      "metadata": {
        "colab": {
          "base_uri": "https://localhost:8080/"
        },
        "id": "eYOQidD1izki",
        "outputId": "94e3674c-365d-4fa3-e025-f8680cea4fa7"
      },
      "source": [
        "myDict"
      ],
      "execution_count": 53,
      "outputs": [
        {
          "output_type": "execute_result",
          "data": {
            "text/plain": [
              "{'key': 'value', 'key2': 'value2', 'key3': 'value3'}"
            ]
          },
          "metadata": {
            "tags": []
          },
          "execution_count": 53
        }
      ]
    },
    {
      "cell_type": "markdown",
      "metadata": {
        "id": "eEx675QKjBue"
      },
      "source": [
        "Create:\r\n",
        "dict1 = 10 foods\r\n",
        "dict2 = 10 peoples names\r\n",
        "dict3 = 5 sports players"
      ]
    },
    {
      "cell_type": "code",
      "metadata": {
        "id": "vM0EasxRjLK6"
      },
      "source": [
        "dict1 = {'apple':'fruit', 'carrot':'vegetable', 'mcdonalds':'fastfood', 'beef':'cow', 'pork':'pig', 'papajohns':'pizza', 'smoothieking':'beverage', 'icecream':'desert', 'rice':'grain', 'chips':'junkfood'}\r\n",
        "dict2 = {'ronaldo':'soccer player', 'drake':'rapper', 'einstein':'genius', 'ariana':'me', 'lebron':'basketball player', 'madonna':'singer', 'frued':'psychology', 'durant':'basketball player', 'kim k':'kardashian', 'trump':'orange' }\r\n",
        "dict3 = {'jason tatum':'basketball player', 'messi':'soccer player', 'mayweather':'boxer', 'serena william':'tennis player', 'kobe bryant':'basketball player' }"
      ],
      "execution_count": 79,
      "outputs": []
    },
    {
      "cell_type": "code",
      "metadata": {
        "colab": {
          "base_uri": "https://localhost:8080/"
        },
        "id": "LXp4CHAHliT4",
        "outputId": "0b72a5d2-8073-4746-85f9-068c18f72367"
      },
      "source": [
        "dict1"
      ],
      "execution_count": 80,
      "outputs": [
        {
          "output_type": "execute_result",
          "data": {
            "text/plain": [
              "{'apple': 'fruit',\n",
              " 'beef': 'cow',\n",
              " 'carrot': 'vegetable',\n",
              " 'chips': 'junkfood',\n",
              " 'icecream': 'desert',\n",
              " 'mcdonalds': 'fastfood',\n",
              " 'papajohns': 'pizza',\n",
              " 'pork': 'pig',\n",
              " 'rice': 'grain',\n",
              " 'smoothieking': 'beverage'}"
            ]
          },
          "metadata": {
            "tags": []
          },
          "execution_count": 80
        }
      ]
    },
    {
      "cell_type": "code",
      "metadata": {
        "colab": {
          "base_uri": "https://localhost:8080/"
        },
        "id": "J9rPETxMlsYL",
        "outputId": "a756effe-4996-4bae-e0eb-79ba4e25f00a"
      },
      "source": [
        "dict2"
      ],
      "execution_count": 59,
      "outputs": [
        {
          "output_type": "execute_result",
          "data": {
            "text/plain": [
              "{'ariana': 'me',\n",
              " 'drake': 'rapper',\n",
              " 'durant': 'basketball player',\n",
              " 'einstein': 'genius',\n",
              " 'frued': 'psychology',\n",
              " 'kim k': 'kardashian',\n",
              " 'lebron': 'basketball player',\n",
              " 'madonna': 'singer',\n",
              " 'ronaldo': 'soccer player',\n",
              " 'trump': 'orange'}"
            ]
          },
          "metadata": {
            "tags": []
          },
          "execution_count": 59
        }
      ]
    },
    {
      "cell_type": "code",
      "metadata": {
        "colab": {
          "base_uri": "https://localhost:8080/"
        },
        "id": "dVykaqCelvR9",
        "outputId": "ee9cb52b-f32d-407d-ba73-de3cfdad3ef8"
      },
      "source": [
        "dict3"
      ],
      "execution_count": 60,
      "outputs": [
        {
          "output_type": "execute_result",
          "data": {
            "text/plain": [
              "{'jason tatum': 'basketball player',\n",
              " 'kobe bryant': 'basketball player',\n",
              " 'mayweather': 'boxer',\n",
              " 'messi': 'soccer player',\n",
              " 'serena william': 'tennis player'}"
            ]
          },
          "metadata": {
            "tags": []
          },
          "execution_count": 60
        }
      ]
    },
    {
      "cell_type": "code",
      "metadata": {
        "id": "6d1cvRw4lwMM"
      },
      "source": [
        ""
      ],
      "execution_count": null,
      "outputs": []
    }
  ]
}